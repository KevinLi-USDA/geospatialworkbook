{
 "cells": [
  {
   "cell_type": "markdown",
   "id": "fitting-people",
   "metadata": {},
   "source": [
    "<!--\n",
    "---\n",
    "title: < Your Title >\n",
    "layout: single\n",
    "author: Name\n",
    "author_profile: true\n",
    "header:\n",
    "  overlay_color: \"444444\"\n",
    "  overlay_image: /assets/images/margaret-weir-GZyjbLNOaFg-unsplash_dark.jpg\n",
    "---\n",
    "-->\n",
    "\n",
    "**Last Update:** 13 April 2021 <br />\n",
    "**Download Jupyter Notebook**: [< notebook_name >.ipynb](https://geospatial.101workbook.org/tutorials/<notebook_name>.ipynb)\n",
    "\n",
    "[![Binder](https://mybinder.org/badge_logo.svg)](https://mybinder.org/v2/gh/ISUgenomics/geospatialworkbook/main?urlpath=lab/tree/tutorials/<notebook_name>.ipynb)"
   ]
  },
  {
   "cell_type": "markdown",
   "id": "stone-albany",
   "metadata": {},
   "source": [
    "## Overview\n",
    "Brief overview of the objective for this tutorial\n",
    "\n",
    "*Language*: `<Python|R|Julia|etc...>`\n",
    "\n",
    "*Primary Libraries/Packages*:\n",
    "\n",
    "|Name|Description|Link|\n",
    "|-|-|-|\n",
    "| < name of library > |< brief desc. >|http://link.to.library|\n",
    "|-|-|-|\n",
    "|-|-|-|\n",
    "|-|-|-|\n",
    "|-|-|-|\n",
    "\n",
    "## Nomenclature\n",
    "\n",
    "  * *Name*: < Description >\n",
    "  * *Name*: < Description >\n",
    "  * *Name*: < Description >\n",
    "  * *Name*: < Description >\n",
    "\n",
    "## Data Details\n",
    "  * Repository: < Link to Repository >\n",
    "  * Data: < Name of Dataset >\n",
    "  * Link: < Link to the dataset >\n",
    "  * Other Details: < other >\n",
    "\n",
    "## Analysis Steps\n",
    "  1. **[Title...](#this_is_step1)**\n",
    "    - desc....\n",
    "  2. **[Title...](#step_2)**\n",
    "    - desc....\n",
    "      - desc..\n",
    "      - desc..\n",
    "      - desc..\n",
    "  2. **[Title...](#step_3)**\n",
    "    - desc....\n",
    "    - desc...."
   ]
  },
  {
   "cell_type": "markdown",
   "id": "economic-orchestra",
   "metadata": {},
   "source": [
    "### Step 0: Import Libraries / Packages"
   ]
  },
  {
   "cell_type": "code",
   "execution_count": 5,
   "id": "answering-external",
   "metadata": {},
   "outputs": [],
   "source": [
    "# Import the libraries/packages used here"
   ]
  },
  {
   "cell_type": "markdown",
   "id": "necessary-marijuana",
   "metadata": {},
   "source": [
    "<a id='this_is_step1'></a>\n",
    "### Step 1: Title..."
   ]
  },
  {
   "cell_type": "code",
   "execution_count": 2,
   "id": "external-andorra",
   "metadata": {},
   "outputs": [],
   "source": [
    "# Put Your code below - be sure to include comments"
   ]
  },
  {
   "cell_type": "markdown",
   "id": "earned-broadway",
   "metadata": {},
   "source": [
    "<a id='step_2'></a>\n",
    "### Step 2: Title..."
   ]
  },
  {
   "cell_type": "code",
   "execution_count": 6,
   "id": "surgical-parameter",
   "metadata": {},
   "outputs": [],
   "source": [
    "# Put Your code below - be sure to include comments"
   ]
  },
  {
   "cell_type": "markdown",
   "id": "blocked-indicator",
   "metadata": {},
   "source": [
    "<a id='step_3'></a>\n",
    "### Step 3: Title..."
   ]
  },
  {
   "cell_type": "code",
   "execution_count": 7,
   "id": "indian-domain",
   "metadata": {},
   "outputs": [],
   "source": [
    "# Put Your code below - be sure to include comments"
   ]
  }
 ],
 "metadata": {
  "kernelspec": {
   "display_name": "Python [conda env:py_geo]",
   "language": "python",
   "name": "conda-env-py_geo-py"
  },
  "language_info": {
   "codemirror_mode": {
    "name": "ipython",
    "version": 3
   },
   "file_extension": ".py",
   "mimetype": "text/x-python",
   "name": "python",
   "nbconvert_exporter": "python",
   "pygments_lexer": "ipython3",
   "version": "3.8.8"
  }
 },
 "nbformat": 4,
 "nbformat_minor": 5
}
